{
  "nbformat": 4,
  "nbformat_minor": 0,
  "metadata": {
    "accelerator": "GPU",
    "colab": {
      "name": "43_Prerna_Sharma.ipynb",
      "provenance": [],
      "collapsed_sections": [],
      "include_colab_link": true
    },
    "kernelspec": {
      "display_name": "Python 3",
      "language": "python",
      "name": "python3"
    },
    "language_info": {
      "codemirror_mode": {
        "name": "ipython",
        "version": 3
      },
      "file_extension": ".py",
      "mimetype": "text/x-python",
      "name": "python",
      "nbconvert_exporter": "python",
      "pygments_lexer": "ipython3",
      "version": "3.7.1"
    }
  },
  "cells": [
    {
      "cell_type": "markdown",
      "metadata": {
        "id": "view-in-github",
        "colab_type": "text"
      },
      "source": [
        "<a href=\"https://colab.research.google.com/github/Prerna5194/COVID-19-CT-Classification/blob/master/43_Prerna_Sharma.ipynb\" target=\"_parent\"><img src=\"https://colab.research.google.com/assets/colab-badge.svg\" alt=\"Open In Colab\"/></a>"
      ]
    },
    {
      "cell_type": "markdown",
      "metadata": {
        "colab_type": "text",
        "id": "Iyh8CFgB7X7V"
      },
      "source": [
        "**Importing the required libraries and packages**"
      ]
    },
    {
      "cell_type": "code",
      "metadata": {
        "colab_type": "code",
        "id": "M-jsV2hCX4fQ",
        "colab": {}
      },
      "source": [
        "import os\n",
        "from os.path import join\n",
        "import numpy as np\n",
        "import pandas as pd\n",
        "import random\n",
        "import matplotlib.pyplot as plt\n",
        "import glob\n",
        "import matplotlib.pyplot as plt\n",
        "import matplotlib.image as mpimg\n",
        "import seaborn as sns\n",
        "from mpl_toolkits.axes_grid1 import ImageGrid\n",
        "from sklearn .preprocessing import LabelBinarizer\n",
        "from sklearn.metrics import classification_report,confusion_matrix\n",
        "%matplotlib inline\n",
        "import matplotlib.pyplot as plt\n",
        "# Importing the Keras libraries and packages\n",
        "import keras\n",
        "from keras.models import Sequential\n",
        "from keras.optimizers import Adam,SGD,Adagrad,Adadelta,RMSprop\n",
        "from keras.utils import to_categorical\n",
        "from keras.utils.vis_utils import model_to_dot,plot_model\n",
        "from keras.applications.inception_v3 import InceptionV3, preprocess_input\n",
        "from keras.layers import Dropout, Flatten,Activation\n",
        "from keras.layers import Conv2D, MaxPooling2D, BatchNormalization,GlobalAveragePooling2D,Dropout,Flatten,Dense\n",
        "from keras.callbacks import ModelCheckpoint,EarlyStopping,TensorBoard,CSVLogger,ReduceLROnPlateau,LearningRateScheduler\n",
        "from keras.preprocessing.image import ImageDataGenerator,load_img, img_to_array"
      ],
      "execution_count": 0,
      "outputs": []
    },
    {
      "cell_type": "markdown",
      "metadata": {
        "colab_type": "text",
        "id": "NUB_7O9R74s_"
      },
      "source": [
        "**Part 1: Steps to generate Dataset for training and testing the model**"
      ]
    },
    {
      "cell_type": "code",
      "metadata": {
        "colab_type": "code",
        "id": "HNc_o-cNZqio",
        "colab": {}
      },
      "source": [
        "from google.colab import drive\n",
        "drive.mount('/content/drive/')"
      ],
      "execution_count": 0,
      "outputs": []
    },
    {
      "cell_type": "markdown",
      "metadata": {
        "colab_type": "text",
        "id": "Y9ZhJRcq8i_s"
      },
      "source": [
        "**Preparing the folder structure and mapping the images names from the respective text files to the respective train and test folders.**\n",
        "\n",
        "> Folder Structure:\n",
        "\n",
        "> Dataset\n",
        "\n",
        "> -------->Train\n",
        "\n",
        "> ---------------> CT_COVID\n",
        "\n",
        "> ---------------> CT_NonCOVID\n",
        "\n",
        "> -------->Test\n",
        "\n",
        "> ---------------> CT_COVID\n",
        "\n",
        "> ---------------> CT_NonCOVID"
      ]
    },
    {
      "cell_type": "code",
      "metadata": {
        "colab_type": "code",
        "id": "f8zYvCkLZxjZ",
        "colab": {}
      },
      "source": [
        "# Setting the training and test dataset path\n",
        "script_dir = '/content/drive/My Drive/Dataset'\n",
        "training_set_path = '/content/drive/My Drive/Dataset/train'\n",
        "test_set_path = '/content/drive/My Drive/Dataset/test'\n",
        "path_covid_images = '/content/drive/My Drive/Dataset/test/CT_COVID'\n",
        "path_non_covid_images = '/content/drive/My Drive/Dataset/test/CT_NonCOVID'"
      ],
      "execution_count": 0,
      "outputs": []
    },
    {
      "cell_type": "code",
      "metadata": {
        "colab_type": "code",
        "id": "KA07z1rlABxe",
        "colab": {}
      },
      "source": [
        "# This code takes the images names from the trainCT_Covid.csv file\n",
        "import csv\n",
        "names1 = []\n",
        "file = open(script_dir + '/trainCT_Covid.csv')\n",
        "lns = csv.reader(file)\n",
        "for line in lns:\n",
        "    nam = line [0]\n",
        "    names1.append(nam)\n",
        "\n",
        "# This code gets the images name from the main CT_COVID folder.\n",
        "all_covid_names = []\n",
        "directoryPath =  path_covid_images\n",
        "os.chdir(directoryPath)\n",
        "folder_list=os.listdir(directoryPath)\n",
        "for folders, sub_folders, file in os.walk(directoryPath):\n",
        "    for name in file:\n",
        "        if name.endswith(\".png\"):\n",
        "            all_covid_names.append(name)\n",
        "            \n",
        "# This code moves CT_COVID train images to train -> CT_COVID folder.\n",
        "import shutil\n",
        "for i in names1:\n",
        "    if i in names:\n",
        "        shutil.move(i, script_dir + '/train/CT_COVID')            \n",
        "\n",
        "\n",
        "# This code gets the images names from the testCT_Covid1.csv file. \n",
        "import csv\n",
        "\n",
        "testnames1 = []\n",
        "file = open(script_dir + '/testCT_Covid1.csv')\n",
        "lns = csv.reader(file)\n",
        "for line in lns:\n",
        "    nam = line [0]\n",
        "    testnames1.append(nam)\n",
        "\n",
        "# This code moves CT_COVID test images to test -> CT_COVID folder.\n",
        "import shutil\n",
        "for i in testnames1:\n",
        "    if i in all_covid_names:\n",
        "        shutil.move(i, script_dir + '/test/CT_COVID') \n",
        "\n",
        "normal_train_names1 = []\n",
        "file = open(script_dir + '/trainCT_NonCOVID.csv')\n",
        "lns = csv.reader(file)\n",
        "for line in lns:\n",
        "    nam = line [0]\n",
        "    normal_train_names1.append(nam)\n",
        "\n",
        "# This code gets the images name from the main CT_NonCOVID folder. Don't run it again.\n",
        "all_noncovid_names = []\n",
        "normal_cases_path = os.path.dirname(script_dir + '/CT_NonCOVID')\n",
        "#directoryPath =  path_non_covid_images\n",
        "os.chdir(normal_cases_path)\n",
        "folder_list=os.listdir(normal_cases_path)\n",
        "for folders, sub_folders, file in os.walk(normal_cases_path):\n",
        "    for name in file:\n",
        "        if (name.endswith(\".png\") or name.endswith(\".jpg\")):\n",
        "            all_noncovid_names.append(name)\n",
        "            \n",
        "# This code moves CT_NonCOVID train images to train -> CT_NONCOVID folder.\n",
        "import shutil\n",
        "for i in normal_train_names1:\n",
        "    if i in all_noncovid_names:\n",
        "        shutil.move(i, script_dir + '/train/CT_NonCOVID')\n",
        "\n",
        "# This code gets the images names from the testCT_NonCovid.csv file. \n",
        "import csv\n",
        "normal_test_names1 = []\n",
        "file = open(script_dir + '/testCT_NonCOVID.csv')\n",
        "lns = csv.reader(file)\n",
        "for line in lns:\n",
        "    nam = line [0]\n",
        "    normal_test_names1.append(nam)\n",
        "\n",
        "# This code gets the images name from the main CT_NonCOVID folder. Don't run it again.\n",
        "all_noncovid_names = []\n",
        "normal_cases_path = os.path.dirname(script_dir + '/CT_NonCOVID')\n",
        "#directoryPath =  path_non_covid_images\n",
        "os.chdir(normal_cases_path)\n",
        "folder_list=os.listdir(normal_cases_path)\n",
        "for folders, sub_folders, file in os.walk(normal_cases_path):\n",
        "    for name in file:\n",
        "        if (name.endswith(\".png\") or name.endswith(\".jpg\")):\n",
        "            all_noncovid_names.append(name)\n",
        "            \n",
        "# This code moves CT_NonCOVID test images to test -> CT_NONCOVID folder.\n",
        "import shutil\n",
        "for i in normal_test_names1:\n",
        "    if i in all_noncovid_names:\n",
        "        shutil.move(i, script_dir + '/test/CT_NonCOVID')"
      ],
      "execution_count": 0,
      "outputs": []
    },
    {
      "cell_type": "markdown",
      "metadata": {
        "colab_type": "text",
        "id": "jm9Zqhz8FFnX"
      },
      "source": [
        "**Part 2: Architecture of the Model**"
      ]
    },
    {
      "cell_type": "markdown",
      "metadata": {
        "colab_type": "text",
        "id": "yl9NJwWaE_aW"
      },
      "source": [
        "![image.png](data:image/png;base64,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)"
      ]
    },
    {
      "cell_type": "code",
      "metadata": {
        "colab_type": "code",
        "id": "BphwnkieYZ8T",
        "colab": {}
      },
      "source": [
        "# Step 1 - Initialising the CNN\n",
        "classifier = Sequential()\n",
        " \n",
        "# Step 2 - Convolution\n",
        "input_size = (150,150)\n",
        "classifier.add(Conv2D(64, (3, 3),padding='same', input_shape=(*input_size, 1), activation='relu'))\n",
        "classifier.add(MaxPooling2D(pool_size=(2, 2)))  # 2x2 is optimal\n",
        "classifier.add(Dropout(0.5))\n",
        "# Adding a second convolutional layer\n",
        "classifier.add(Conv2D(64, (3, 3),padding='same', activation='relu'))\n",
        "classifier.add(MaxPooling2D(pool_size=(2, 2)))\n",
        "classifier.add(Dropout(0.5))\n",
        "\n",
        "# Step 3 - Flattening\n",
        "classifier.add(Flatten())\n",
        " \n",
        "# Step 4 - Full connection\n",
        "classifier.add(Dense(units=64, activation='relu'))\n",
        "classifier.add(Dropout(0.5))\n",
        "\n",
        "classifier.add(Dense(units=1, activation='sigmoid'))\n",
        " \n",
        "classifier.summary()\n",
        "\n",
        "# Compiling the CNN\n",
        "classifier.compile(optimizer= 'adam', loss='binary_crossentropy', metrics=['accuracy'])"
      ],
      "execution_count": 0,
      "outputs": []
    },
    {
      "cell_type": "markdown",
      "metadata": {
        "colab_type": "text",
        "id": "-Zs5Wmj_FRh2"
      },
      "source": [
        "**Part 3: Fitting the CNN Classifier to the images**"
      ]
    },
    {
      "cell_type": "code",
      "metadata": {
        "colab_type": "code",
        "id": "nMOFPTIUYfnF",
        "colab": {}
      },
      "source": [
        "batch_size = 16\n",
        "train_datagen = ImageDataGenerator(rescale=1. / 255,\n",
        "                                   shear_range=0.2,\n",
        "                                   zoom_range=0.2,\n",
        "                                   horizontal_flip=True)\n",
        " \n",
        "test_datagen = ImageDataGenerator(rescale=1. / 255)\n",
        " \n",
        "training_set = train_datagen.flow_from_directory(training_set_path,\n",
        "                                                 target_size=input_size,\n",
        "                                                 color_mode='grayscale',\n",
        "                                                 batch_size=batch_size,\n",
        "                                                 class_mode='binary')\n",
        " \n",
        "test_set = test_datagen.flow_from_directory(test_set_path,\n",
        "                                            target_size=input_size,\n",
        "                                            color_mode='grayscale',\n",
        "                                            batch_size=batch_size,\n",
        "                                            class_mode='binary')\n",
        "                                            \n",
        "checkpointer = ModelCheckpoint(filepath=\"Covid_best_weights.hdf5\", \n",
        "                               monitor = 'val_acc',\n",
        "                               verbose=1, \n",
        "                               save_best_only=True)"
      ],
      "execution_count": 0,
      "outputs": []
    },
    {
      "cell_type": "markdown",
      "metadata": {
        "colab_type": "text",
        "id": "TK0-hH48GHLI"
      },
      "source": [
        "**Part 4: Training the Model**"
      ]
    },
    {
      "cell_type": "code",
      "metadata": {
        "id": "lh1tgI-V0WSd",
        "colab_type": "code",
        "colab": {}
      },
      "source": [
        "model_backup_path = '/content/drive/My Drive/Dataset/Covid_model.h5'"
      ],
      "execution_count": 0,
      "outputs": []
    },
    {
      "cell_type": "code",
      "metadata": {
        "id": "_HbhWvsC0YQq",
        "colab_type": "code",
        "colab": {}
      },
      "source": [
        "model_backup_path"
      ],
      "execution_count": 0,
      "outputs": []
    },
    {
      "cell_type": "code",
      "metadata": {
        "colab_type": "code",
        "id": "QpjIp3k1YltN",
        "colab": {}
      },
      "source": [
        "history = classifier.fit_generator(training_set,\n",
        "                         steps_per_epoch = 425/batch_size,\n",
        "                         epochs = 50,\n",
        "                         validation_data=test_set,\n",
        "                         validation_steps = 203/batch_size)\n",
        "\n",
        "# Save model\n",
        "classifier.save(model_backup_path)\n",
        "print(\"Model saved to\", model_backup_path)"
      ],
      "execution_count": 0,
      "outputs": []
    },
    {
      "cell_type": "code",
      "metadata": {
        "colab_type": "code",
        "id": "tZy1kYOVa5g2",
        "colab": {}
      },
      "source": [
        "acc = history.history['accuracy']\n",
        "val_acc = history.history['val_accuracy']\n",
        "loss = history.history['loss']\n",
        "val_loss = history.history['val_loss']"
      ],
      "execution_count": 0,
      "outputs": []
    },
    {
      "cell_type": "markdown",
      "metadata": {
        "colab_type": "text",
        "id": "wwusuKOeFoXF"
      },
      "source": [
        "**Part 5: Displaying curves of loss and accuracy during training**"
      ]
    },
    {
      "cell_type": "code",
      "metadata": {
        "colab_type": "code",
        "id": "zM0PL_m8a70H",
        "colab": {}
      },
      "source": [
        "%matplotlib inline\n",
        "import matplotlib.pyplot as plt\n",
        "epochs = range(1, len(acc) + 1)\n",
        "plt.plot(epochs, acc, 'bo', label='Training acc')\n",
        "plt.plot(epochs, val_acc, 'b', label='Validation acc')\n",
        "plt.title('Training and validation accuracy')\n",
        "plt.legend()\n",
        "\n",
        "plt.figure()"
      ],
      "execution_count": 0,
      "outputs": []
    },
    {
      "cell_type": "code",
      "metadata": {
        "colab_type": "code",
        "id": "K7qtf7K_a973",
        "colab": {}
      },
      "source": [
        "plt.plot(epochs, loss, 'bo', label='Training loss')\n",
        "plt.plot(epochs, val_loss, 'b', label='Validation loss')\n",
        "plt.title('Training and validation loss')\n",
        "plt.legend()\n",
        "plt.show()"
      ],
      "execution_count": 0,
      "outputs": []
    },
    {
      "cell_type": "code",
      "metadata": {
        "colab_type": "code",
        "id": "qujHuVmXbCOu",
        "colab": {}
      },
      "source": [
        "print(\"training_accuracy\", history.history['accuracy'][-6])\n",
        "print(\"validation_accuracy\", history.history['val_accuracy'][-6])\n",
        "\n",
        "print(\"training_loss\", history.history['loss'][-6])\n",
        "print(\"validation_loss\", history.history['val_loss'][-6])"
      ],
      "execution_count": 0,
      "outputs": []
    },
    {
      "cell_type": "code",
      "metadata": {
        "colab_type": "code",
        "id": "LaLyKK_p0XNr",
        "colab": {}
      },
      "source": [
        "\n",
        "training_set.class_indices"
      ],
      "execution_count": 0,
      "outputs": []
    },
    {
      "cell_type": "code",
      "metadata": {
        "colab_type": "code",
        "id": "QPXCqwtb0asv",
        "colab": {}
      },
      "source": [
        "test_set.class_indices"
      ],
      "execution_count": 0,
      "outputs": []
    },
    {
      "cell_type": "code",
      "metadata": {
        "colab_type": "code",
        "id": "eTrKppcVu_ay",
        "colab": {}
      },
      "source": [
        "y_test = []\n",
        "y_actual = []"
      ],
      "execution_count": 0,
      "outputs": []
    },
    {
      "cell_type": "code",
      "metadata": {
        "colab_type": "code",
        "id": "xtfTE96OxWGI",
        "colab": {}
      },
      "source": [
        "from keras.preprocessing import image\n",
        "for i in os.listdir(\"/content/drive/My Drive/Dataset/test/CT_NonCOVID/\"):\n",
        "    img = image.load_img(\"/content/drive/My Drive/Dataset/test/CT_NonCOVID/\" + i, target_size = (150, 150),color_mode='grayscale')\n",
        "    img = image.img_to_array(img)\n",
        "    img = np.expand_dims(img, axis = 0)\n",
        "    p = classifier.predict_classes(img)\n",
        "    y_test.append(p[0, 0])\n",
        "    y_actual.append(1)\n",
        "    \n",
        "for i in os.listdir(\"/content/drive/My Drive/Dataset/test/CT_COVID/\"):\n",
        "    img = image.load_img(\"/content/drive/My Drive/Dataset/test/CT_COVID/\" + i, target_size = (150, 150),color_mode='grayscale')\n",
        "    img = image.img_to_array(img)\n",
        "    img = np.expand_dims(img, axis = 0)\n",
        "    p = classifier.predict_classes(img)\n",
        "    y_test.append(p[0, 0])\n",
        "    y_actual.append(0)"
      ],
      "execution_count": 0,
      "outputs": []
    },
    {
      "cell_type": "code",
      "metadata": {
        "colab_type": "code",
        "id": "IGDJCK3Cylq9",
        "colab": {}
      },
      "source": [
        "y_actual = np.array(y_actual)\n",
        "y_test = np.array(y_test)"
      ],
      "execution_count": 0,
      "outputs": []
    },
    {
      "cell_type": "code",
      "metadata": {
        "colab_type": "code",
        "id": "957WQq_Fzwwq",
        "colab": {}
      },
      "source": [
        "cm = confusion_matrix(y_actual, y_test)"
      ],
      "execution_count": 0,
      "outputs": []
    },
    {
      "cell_type": "markdown",
      "metadata": {
        "colab_type": "text",
        "id": "Xdv9oGdWGMts"
      },
      "source": [
        "**Plotting the Confusion Matrix**"
      ]
    },
    {
      "cell_type": "code",
      "metadata": {
        "colab_type": "code",
        "id": "hN_3lzC3z4GT",
        "colab": {}
      },
      "source": [
        "sns.heatmap(cm, cmap = 'plasma', annot = True)\n",
        "plt.show()"
      ],
      "execution_count": 0,
      "outputs": []
    },
    {
      "cell_type": "markdown",
      "metadata": {
        "colab_type": "text",
        "id": "_sbSvR5nIYM_"
      },
      "source": [
        "**Part 6: Predicting the class of unseen images**"
      ]
    },
    {
      "cell_type": "code",
      "metadata": {
        "colab_type": "code",
        "id": "1-ADWn9i4B1v",
        "colab": {}
      },
      "source": [
        "img_src = '/content/drive/My Drive/Dataset/val/CT_COVID/2020.03.13.20035212-p23-158.png'\n",
        "img = image.load_img(img_src, target_size=(150, 150))\n",
        "img_tensor = image.img_to_array(img)\n",
        "img_tensor = np.expand_dims(img_tensor, axis=0)\n",
        "img_tensor /= 255.\n",
        "plt.imshow(img_tensor[0])\n",
        "plt.show()\n",
        "print(img_tensor.shape)"
      ],
      "execution_count": 0,
      "outputs": []
    },
    {
      "cell_type": "code",
      "metadata": {
        "colab_type": "code",
        "id": "50n4wTvu7644",
        "colab": {}
      },
      "source": [
        "img_src2 = '/content/drive/My Drive/Dataset/val/CT_NonCOVID/1071.png'\n",
        "img1 = image.load_img(img_src2, target_size=(150, 150))\n",
        "img_tensor1 = image.img_to_array(img1)\n",
        "img_tensor1 = np.expand_dims(img_tensor1, axis=0)\n",
        "img_tensor1 /= 255.\n",
        "plt.imshow(img_tensor1[0])\n",
        "plt.show()\n",
        "print(img_tensor1.shape)"
      ],
      "execution_count": 0,
      "outputs": []
    },
    {
      "cell_type": "code",
      "metadata": {
        "colab_type": "code",
        "id": "NK5ateTa69CQ",
        "colab": {}
      },
      "source": [
        "test_image = image.load_img(img_src, target_size = (150, 150), color_mode= 'grayscale')\n",
        "test_image = image.img_to_array(test_image)\n",
        "test_image = np.expand_dims(test_image, axis = 0)\n",
        "result = classifier.predict(test_image)\n",
        "training_set.class_indices\n",
        "if result[0][0] == 1:\n",
        "    prediction = 'NonCovid'\n",
        "else:\n",
        "    prediction = 'Covid'\n",
        "\n",
        "print('Prediction is ', prediction)"
      ],
      "execution_count": 0,
      "outputs": []
    },
    {
      "cell_type": "code",
      "metadata": {
        "colab_type": "code",
        "id": "8z6N7KHz4gEa",
        "colab": {}
      },
      "source": [
        "test_image2 = image.load_img(img_src1, target_size = (150, 150), color_mode= 'grayscale')\n",
        "test_image2 = image.img_to_array(test_image2)\n",
        "test_image2 = np.expand_dims(test_image2, axis = 0)\n",
        "result = classifier.predict(test_image2)\n",
        "training_set.class_indices\n",
        "if result[0][0] == 1:\n",
        "    prediction = 'NonCovid'\n",
        "else:\n",
        "    prediction = 'Covid'\n",
        "\n",
        "print('Prediction is ', prediction)"
      ],
      "execution_count": 0,
      "outputs": []
    }
  ]
}